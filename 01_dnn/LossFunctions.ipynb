{
 "cells": [
  {
   "cell_type": "code",
   "execution_count": 4,
   "metadata": {},
   "outputs": [],
   "source": [
    "import seaborn as sns\n",
    "import matplotlib as mpl\n",
    "import matplotlib.pyplot as plt\n",
    "import numpy as np\n",
    "import pandas as pd"
   ]
  },
  {
   "cell_type": "code",
   "execution_count": 2,
   "metadata": {},
   "outputs": [
    {
     "data": {
      "text/plain": [
       "2.0"
      ]
     },
     "execution_count": 2,
     "metadata": {},
     "output_type": "execute_result"
    }
   ],
   "source": [
    "def mean_absolute_error(y, yhat):\n",
    "    return np.abs(y - yhat).mean()\n",
    "\n",
    "mean_absolute_error(np.array([1, 3]), np.array([0, 0]))"
   ]
  },
  {
   "cell_type": "markdown",
   "metadata": {},
   "source": [
    "$$ \\text{Regression Cost Function}: f(Y, \\hat{Y}) \\in (ℝ^n, ℝ^n) \\rightarrow ℝ $$\n",
    "$$ \\text{Mean Absolute Error} = \\sum_i^n{|Y_i - \\hat{Y}_i|} * \\frac{1}{n} $$\n",
    "$$ \\text{Mean Squared Error} = \\sum_i^n{(Y_i - \\hat{Y}_i)^2} * \\frac{1}{n} $$"
   ]
  },
  {
   "cell_type": "markdown",
   "metadata": {},
   "source": [
    "$$ \\text{Classification Cost Function}: f(Y, \\hat{Y}) \\in ([0,1]^{n}, [0,1]^n) \\rightarrow ℝ $$\n",
    "$$ \\text{Cross Entropy} = \\sum^n_i{-log(\\hat{Y}) + (1 - Y_i) * -log(1 - \\hat{Y}_i)} $$"
   ]
  },
  {
   "cell_type": "code",
   "execution_count": 3,
   "metadata": {},
   "outputs": [],
   "source": [
    "def cross_entropy(y, yhat):\n",
    "    return -log(yhat) + (1 - y) * -log(1 - yhat)"
   ]
  }
 ],
 "metadata": {
  "kernelspec": {
   "display_name": "Python 3",
   "language": "python",
   "name": "python3"
  },
  "language_info": {
   "codemirror_mode": {
    "name": "ipython",
    "version": 3
   },
   "file_extension": ".py",
   "mimetype": "text/x-python",
   "name": "python",
   "nbconvert_exporter": "python",
   "pygments_lexer": "ipython3",
   "version": "3.7.3"
  }
 },
 "nbformat": 4,
 "nbformat_minor": 4
}
