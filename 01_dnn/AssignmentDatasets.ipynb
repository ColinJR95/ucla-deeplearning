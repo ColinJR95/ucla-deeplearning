{
 "cells": [
  {
   "cell_type": "code",
   "execution_count": 1,
   "metadata": {},
   "outputs": [],
   "source": [
    "import boto3\n",
    "s3 = boto3.client('s3')"
   ]
  },
  {
   "cell_type": "code",
   "execution_count": 2,
   "metadata": {},
   "outputs": [],
   "source": [
    "objects = s3.list_objects(Bucket='ucla-deeplearning', Prefix='storage/mnist-v3')['Contents']\n",
    "dataset_ids = [\n",
    "    o['Key'].split('/')[4] \n",
    "    for o in objects \n",
    "    if 'closing.time' in o['Key'] and 'transform_repack' in o['Key']\n",
    "]"
   ]
  },
  {
   "cell_type": "code",
   "execution_count": 3,
   "metadata": {},
   "outputs": [
    {
     "name": "stdout",
     "output_type": "stream",
     "text": [
      "20190930-183616_e850512507eb0a06ca90e454c302c6ee\n",
      "20190930-183641_26da7da1dd473bbca194f450791b1e9a\n",
      "20190930-183706_1d531dbdf589b752bb4f68790ba6465\n",
      "20190930-183731_287e77fcdea25eb1f6367544fca019a2\n",
      "20190930-183756_9caddd5e897b992146cd4d609fd60c60\n",
      "20190930-183821_8a527422f4c3d6a7645b1e3871517c7f\n",
      "20190930-183846_e85866709f6715ae5a448397b644b4d7\n",
      "20190930-183910_1b85dda8e1f07967abdf75597cec360d\n",
      "20190930-183935_90d849369ac18103d8481bcceb0f1657\n",
      "20190930-184000_6c8939ae6c8b3750fcfb4a97e9b4988c\n",
      "20190930-184025_af8186ad244bc70bb7b43f7f072d9dc7\n",
      "20190930-184050_98d496f2a5245ef674fbcdb1a4da482a\n",
      "20190930-184115_6979ae540891f57b6c5cb9202edda638\n",
      "20190930-184139_e3d1709f49f0d5f60cbfe2e802ccc343\n",
      "20190930-184204_7a56a4d18e6fb08ff41824bbf86383fb\n",
      "20190930-184229_1e3dbc7d634014c98b617f67890519e2\n",
      "20190930-184253_e7cce28834108722a393395f4ff7dd50\n",
      "20190930-184319_45fb703b242a67e6f056bddef8033d4a\n",
      "20190930-184344_4a6f1d2d7cb97e205b6c7ddc01c914f2\n",
      "20190930-184418_25f8223361259ffb95bf0ce03a451a3\n",
      "20190930-184443_ada7d45889b8f59112f03c8639c5b78b\n",
      "20190930-184508_77cc872637e95c11be3a4eee2e0c25f9\n",
      "20190930-184533_9cbceb8d3519cfbbe0387bd1e4ca7f0b\n",
      "20190930-184558_9a1692cf7e18a770c19b61a0a2e05b04\n",
      "20190930-184623_5f8a685753760b97a46f21eb1352fe10\n",
      "20190930-184648_4f135a903b0309a0781420fad4d13c7d\n",
      "20190930-184713_65c1ce3aba4d4dddf7dd31ff492dea72\n",
      "20190930-184738_2590abced97425ca676756c86caeb2f2\n",
      "20190930-184803_8035ac60d25f08cf8e9d73aaef6411ba\n",
      "20190930-184829_1c0c34ae101b68c803ce948be2dc7eb7\n"
     ]
    }
   ],
   "source": [
    "print('\\n'.join(dataset_ids))"
   ]
  },
  {
   "cell_type": "code",
   "execution_count": 4,
   "metadata": {},
   "outputs": [
    {
     "data": {
      "text/plain": [
       "(933, 30)"
      ]
     },
     "execution_count": 4,
     "metadata": {},
     "output_type": "execute_result"
    }
   ],
   "source": [
    "len(objects), len(dataset_ids)"
   ]
  }
 ],
 "metadata": {
  "kernelspec": {
   "display_name": "Python 3",
   "language": "python",
   "name": "python3"
  },
  "language_info": {
   "codemirror_mode": {
    "name": "ipython",
    "version": 3
   },
   "file_extension": ".py",
   "mimetype": "text/x-python",
   "name": "python",
   "nbconvert_exporter": "python",
   "pygments_lexer": "ipython3",
   "version": "3.7.3"
  }
 },
 "nbformat": 4,
 "nbformat_minor": 4
}
