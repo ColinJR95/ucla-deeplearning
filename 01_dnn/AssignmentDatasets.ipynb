{
 "cells": [
  {
   "cell_type": "code",
   "execution_count": 1,
   "metadata": {},
   "outputs": [],
   "source": [
    "import boto3\n",
    "s3 = boto3.client('s3')"
   ]
  },
  {
   "cell_type": "code",
   "execution_count": 17,
   "metadata": {},
   "outputs": [],
   "source": [
    "objects = s3.list_objects(Bucket='ucla-deeplearning', Prefix='storage/mnist-0.2')['Contents']\n",
    "dataset_ids = [\n",
    "    o['Key'].split('/')[4] \n",
    "    for o in objects \n",
    "    if 'closing.time' in o['Key'] and 'transform_repack' in o['Key']\n",
    "]"
   ]
  },
  {
   "cell_type": "code",
   "execution_count": 18,
   "metadata": {},
   "outputs": [
    {
     "name": "stdout",
     "output_type": "stream",
     "text": [
      "20190927-231853_f461da9eb02dec72a786d498d925528e\n",
      "20190927-231920_cb263c393883ea435629859ef437e158\n",
      "20190927-231947_cd46605bf9c3ded54348bc3f25ab3ea8\n",
      "20190927-232020_3dcd55f52b80582b3c8d42e669ea3f66\n",
      "20190927-232046_d695f010a0f84a46eb8a522ae1583caf\n",
      "20190927-232115_884413a3a7c82f39360e56a9514e1257\n",
      "20190927-232142_f86bb4843ee5bca3e4c6d4f3d100ad53\n",
      "20190927-232209_29b2b96003d8d0cef63d5e98fdb7f81c\n",
      "20190927-232237_3c70febbb3a7df2c17fb0859753a8abe\n",
      "20190927-232306_6fe666884768b185e49d73ee835bdd19\n",
      "20190927-232339_25dbe2fd1b335c46e06ba0f76cf1f7cc\n",
      "20190927-232413_fe90fdf1806b311fa83b55de29432e71\n",
      "20190927-232440_4ef1c920237452ddbd4cd531ca12b675\n",
      "20190927-232507_2fb5e7c27bdc525cb6c3464cbb6ad2f\n",
      "20190927-232536_f1adba3b8a354ea9a06a7b07c12640ba\n",
      "20190927-232602_d68900d1ce2859ee12f27e3bafd1b235\n",
      "20190927-232636_b43deec462bf5c2d5017aca3a0b76624\n",
      "20190927-232702_cb309956d181c6c2df30d6744e3877cd\n",
      "20190927-232732_798a114770e65c8a7b959002ae997965\n",
      "20190927-232759_1a7be5f7cbdcaf86401b14891f519a37\n",
      "20190927-232827_17ad94614c9b4125a9cc8a277ed69749\n",
      "20190927-232854_f9d5b0879182391534cd0ece1606108f\n",
      "20190927-232925_5e83e5bd0081d47ca0dbc9077be5fa7e\n",
      "20190927-232952_33ff496128a498ede90407139f23ff8b\n",
      "20190927-233022_82a16a601ff249a83ae47fdcdfb1e71c\n",
      "20190927-233049_78aec871e58185c5ff56d1f8a2868342\n",
      "20190927-233117_7581beffee0f3c4919ef06cc44f36918\n",
      "20190927-233143_992d7265d789c243afa8b56b4f588fc4\n",
      "20190927-233216_da3f1356da46e247ae90c640f5a559aa\n",
      "20190927-233244_3a66bfb023d40470edbcf174694d0595\n"
     ]
    }
   ],
   "source": [
    "print('\\n'.join(dataset_ids))"
   ]
  },
  {
   "cell_type": "code",
   "execution_count": 19,
   "metadata": {},
   "outputs": [
    {
     "data": {
      "text/plain": [
       "(933, 30)"
      ]
     },
     "execution_count": 19,
     "metadata": {},
     "output_type": "execute_result"
    }
   ],
   "source": [
    "len(objects), len(dataset_ids)"
   ]
  }
 ],
 "metadata": {
  "kernelspec": {
   "display_name": "Python 3",
   "language": "python",
   "name": "python3"
  },
  "language_info": {
   "codemirror_mode": {
    "name": "ipython",
    "version": 3
   },
   "file_extension": ".py",
   "mimetype": "text/x-python",
   "name": "python",
   "nbconvert_exporter": "python",
   "pygments_lexer": "ipython3",
   "version": "3.7.3"
  }
 },
 "nbformat": 4,
 "nbformat_minor": 4
}
