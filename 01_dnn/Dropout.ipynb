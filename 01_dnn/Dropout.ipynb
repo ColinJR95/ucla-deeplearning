{
 "cells": [
  {
   "cell_type": "markdown",
   "metadata": {},
   "source": [
    "$$ p = \\text{probability of keeping a node} $$\n",
    "$$ \\pmb{D} = \\text{vector of random variables ~ Bernoulli}(p)$$\n",
    "\n",
    "$$ \\pmb{A}_d^{[1]} = \\frac{\\pmb{A}^{[1]} * \\pmb{D}}{p} $$\n",
    "\n",
    "$$ \\text{Why divide by }p\\text{ ?} $$\n",
    "\n",
    "$$ E[\\pmb{A}_d^{[1]}] = \\frac{E[\\pmb{A}^{[1]}] * E[\\pmb{D}]}{p} = \\frac{E[\\pmb{A}^{[1]}] * p}{p} = E[\\pmb{A}^{[1]}]$$\n",
    "\n"
   ]
  },
  {
   "cell_type": "code",
   "execution_count": 1,
   "metadata": {},
   "outputs": [
    {
     "data": {
      "text/plain": [
       "\u001b[0;31mInit signature:\u001b[0m \u001b[0mDropout\u001b[0m\u001b[0;34m(\u001b[0m\u001b[0mrate\u001b[0m\u001b[0;34m,\u001b[0m \u001b[0mnoise_shape\u001b[0m\u001b[0;34m=\u001b[0m\u001b[0;32mNone\u001b[0m\u001b[0;34m,\u001b[0m \u001b[0mseed\u001b[0m\u001b[0;34m=\u001b[0m\u001b[0;32mNone\u001b[0m\u001b[0;34m,\u001b[0m \u001b[0;34m**\u001b[0m\u001b[0mkwargs\u001b[0m\u001b[0;34m)\u001b[0m\u001b[0;34m\u001b[0m\u001b[0;34m\u001b[0m\u001b[0m\n",
       "\u001b[0;31mDocstring:\u001b[0m     \n",
       "Applies Dropout to the input.\n",
       "\n",
       "Dropout consists in randomly setting\n",
       "a fraction `rate` of input units to 0 at each update during training time,\n",
       "which helps prevent overfitting.\n",
       "\n",
       "Arguments:\n",
       "    rate: float between 0 and 1. Fraction of the input units to drop.\n",
       "    noise_shape: 1D integer tensor representing the shape of the\n",
       "        binary dropout mask that will be multiplied with the input.\n",
       "        For instance, if your inputs have shape\n",
       "        `(batch_size, timesteps, features)` and\n",
       "        you want the dropout mask to be the same for all timesteps,\n",
       "        you can use `noise_shape=(batch_size, 1, features)`.\n",
       "    seed: A Python integer to use as random seed.\n",
       "\u001b[0;31mFile:\u001b[0m           /opt/conda/lib/python3.7/site-packages/tensorflow/python/keras/layers/core.py\n",
       "\u001b[0;31mType:\u001b[0m           type\n",
       "\u001b[0;31mSubclasses:\u001b[0m     SpatialDropout1D, SpatialDropout2D, SpatialDropout3D, Dropout\n"
      ]
     },
     "metadata": {},
     "output_type": "display_data"
    }
   ],
   "source": [
    "from tensorflow.keras.layers import Dropout\n",
    "?Dropout"
   ]
  }
 ],
 "metadata": {
  "kernelspec": {
   "display_name": "Python 3",
   "language": "python",
   "name": "python3"
  },
  "language_info": {
   "codemirror_mode": {
    "name": "ipython",
    "version": 3
   },
   "file_extension": ".py",
   "mimetype": "text/x-python",
   "name": "python",
   "nbconvert_exporter": "python",
   "pygments_lexer": "ipython3",
   "version": "3.7.3"
  }
 },
 "nbformat": 4,
 "nbformat_minor": 4
}
