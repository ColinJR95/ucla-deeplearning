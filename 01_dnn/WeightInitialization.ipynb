{
 "cells": [
  {
   "cell_type": "markdown",
   "metadata": {},
   "source": [
    "## Weight Initialization"
   ]
  },
  {
   "cell_type": "markdown",
   "metadata": {},
   "source": [
    "### Why not identical initialization?\n",
    "\n",
    "If we initialize every node within layer $l$ with the same parameters:\n",
    "\n",
    "$ \\forall g, h: $\n",
    "\n",
    "$ \\textbf{w}^{[l]}_{g, :} = \\textbf{w}^{[l]}_{h, :} $\n",
    "\n",
    "$ b^{[l]}_g = b^{[l]}_h $\n",
    "\n",
    "This implies that each node within layer $l$ activates identically:\n",
    "\n",
    "$ \\forall g, h: $\n",
    "\n",
    "$ z^{[l]}_{s, g} = \\textbf{a}^{[l-1]}_{s, :} \\cdot \\textbf{w}^{[l]T}_{g, :} + b_g^{[l]} $\n",
    "\n",
    "$ z^{[l]}_{s, h} = \\textbf{a}^{[l-1]}_{s, :} \\cdot \\textbf{w}^{[l]T}_{h, :} + b_h^{[l]} $\n",
    "\n",
    "$ z^{[l]}_{s, g} = z^{[l]}_{s, h} $\n",
    "\n",
    "$ a^{[l]}_{s, g} = f(z^{[l]}_{s, g}) = f(z^{[l]}_{s, h}) = a^{[l]}_{s, h} $\n",
    "\n",
    "This implies that the gradient of all nodes within layer $l$ is identical:\n",
    "\n",
    "$$ \n",
    "\\begin{align}\n",
    "    \\forall g, h: & \\\\\n",
    "    \\frac {\\partial C_s} {\\partial w^{[l]}_{g, n}} \n",
    "    & = \\frac {\\partial C_s} {\\partial a^{[l]}_{s, g}} \n",
    "    * f'(z^{[l]}_{s, g})\n",
    "    * a^{[l-1]}_{s, n} \n",
    "    \\\\\n",
    "    \\frac {\\partial C_s} {\\partial w^{[l]}_{h, n}} \n",
    "    & = \\frac {\\partial C_s} {\\partial a^{[l]}_{s, h}} \n",
    "    * f'(z^{[l]}_{s, h})\n",
    "    * a^{[l-1]}_{s, n} \n",
    "    \\\\\n",
    "    \\frac {\\partial C_s} {\\partial w^{[l]}_{g, n}} \n",
    "    & = \\frac {\\partial C_s} {\\partial w^{[l]}_{h, n}}  \n",
    "\\end{align}\n",
    "$$\n",
    "\n",
    "Note that the upstream gradient has to be identical too.\n",
    "This is true if the upstream layer is also identically initialized."
   ]
  },
  {
   "cell_type": "markdown",
   "metadata": {},
   "source": [
    "# Glorot \n",
    "$$ W_i \\sim U\\left( -\\sqrt{\\frac{6}{n_{in} + n_{out}}}, \\sqrt{\\frac{6}{n_{in} + n_{out}}} \\right) $$\n",
    "$$ n_{in} (n_{out}) = \\text{count of input (output) connections} $$"
   ]
  },
  {
   "cell_type": "markdown",
   "metadata": {},
   "source": [
    "# Xavier\n",
    "\n",
    "$$ W_i \\sim N\\left( 0, \\sqrt{\\frac{2}{n_{in}}} \\right) $$\n",
    "$$ n_{in} = \\text{count of input connections} $$"
   ]
  }
 ],
 "metadata": {
  "kernelspec": {
   "display_name": "Python 3",
   "language": "python",
   "name": "python3"
  },
  "language_info": {
   "codemirror_mode": {
    "name": "ipython",
    "version": 3
   },
   "file_extension": ".py",
   "mimetype": "text/x-python",
   "name": "python",
   "nbconvert_exporter": "python",
   "pygments_lexer": "ipython3",
   "version": "3.7.3"
  }
 },
 "nbformat": 4,
 "nbformat_minor": 4
}
